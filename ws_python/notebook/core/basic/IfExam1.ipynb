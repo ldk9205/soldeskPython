{
 "cells": [
  {
   "cell_type": "code",
   "execution_count": 9,
   "id": "177f3dc4",
   "metadata": {},
   "outputs": [
    {
     "name": "stdout",
     "output_type": "stream",
     "text": [
      "10 은(는) 2, 3, 4, 5의 배수가 아님\n",
      "\n",
      "2 의 배수가 맞음\n",
      "3 의 배수가 아님\n",
      "4 의 배수가 아님\n",
      "5 의 배수가 맞음\n"
     ]
    }
   ],
   "source": [
    "su = 10\n",
    "\n",
    "if su % 60:\n",
    "    print(su,'은(는) 2, 3, 4, 5의 배수가 아님')\n",
    "else:\n",
    "    print(su,'은(는) 2, 3, 4, 5의 배수가 맞음')\n",
    "    \n",
    "print()\n",
    "\n",
    "for x in range(2,6):\n",
    "    if su % x:\n",
    "        print(x, '의 배수가 아님')\n",
    "    else:\n",
    "        print(x, '의 배수가 맞음')"
   ]
  }
 ],
 "metadata": {
  "kernelspec": {
   "display_name": "Python 3",
   "language": "python",
   "name": "python3"
  },
  "language_info": {
   "codemirror_mode": {
    "name": "ipython",
    "version": 3
   },
   "file_extension": ".py",
   "mimetype": "text/x-python",
   "name": "python",
   "nbconvert_exporter": "python",
   "pygments_lexer": "ipython3",
   "version": "3.8.8"
  }
 },
 "nbformat": 4,
 "nbformat_minor": 5
}

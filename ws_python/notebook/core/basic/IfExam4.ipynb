{
 "cells": [
  {
   "cell_type": "code",
   "execution_count": 3,
   "id": "fe762552",
   "metadata": {},
   "outputs": [
    {
     "name": "stdout",
     "output_type": "stream",
     "text": [
      "15\n",
      "등수: 15 상품: 다음 기회에...\n"
     ]
    }
   ],
   "source": [
    "d = {1 : '노트북', 2 : '무한 복합 프린터', 3 : '512 SSD'}\n",
    "\n",
    "x = int(input())\n",
    "print('등수:', x,'상품:', d[x] if (x <= 3 and x > 0) else '다음 기회에...')\n"
   ]
  }
 ],
 "metadata": {
  "kernelspec": {
   "display_name": "Python 3",
   "language": "python",
   "name": "python3"
  },
  "language_info": {
   "codemirror_mode": {
    "name": "ipython",
    "version": 3
   },
   "file_extension": ".py",
   "mimetype": "text/x-python",
   "name": "python",
   "nbconvert_exporter": "python",
   "pygments_lexer": "ipython3",
   "version": "3.8.8"
  }
 },
 "nbformat": 4,
 "nbformat_minor": 5
}

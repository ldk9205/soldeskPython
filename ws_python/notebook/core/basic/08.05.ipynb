{
 "cells": [
  {
   "cell_type": "code",
   "execution_count": 2,
   "id": "9275e62b",
   "metadata": {},
   "outputs": [
    {
     "name": "stdout",
     "output_type": "stream",
     "text": [
      "[0, 1, 100, 2, 3]\n"
     ]
    }
   ],
   "source": [
    "data = [0, 1, 2, 3]\n",
    "data.insert(2, 100)\n",
    "print(data)"
   ]
  },
  {
   "cell_type": "code",
   "execution_count": 12,
   "id": "1464f345",
   "metadata": {},
   "outputs": [
    {
     "name": "stdout",
     "output_type": "stream",
     "text": [
      "[1, 20, 100, 3, 200, 20]\n"
     ]
    }
   ],
   "source": [
    "data = [1, 20, 100, 3]\n",
    "data.append(200)\n",
    "data.append(20)\n",
    "print(data)"
   ]
  },
  {
   "cell_type": "code",
   "execution_count": 13,
   "id": "d756d560",
   "metadata": {},
   "outputs": [
    {
     "name": "stdout",
     "output_type": "stream",
     "text": [
      "[150, 20, 100, 3, 200, 20]\n"
     ]
    }
   ],
   "source": [
    "data[0]=150\n",
    "print(data)"
   ]
  },
  {
   "cell_type": "code",
   "execution_count": 23,
   "id": "c465070a",
   "metadata": {},
   "outputs": [
    {
     "name": "stdout",
     "output_type": "stream",
     "text": [
      "[150, 100, 50]\n"
     ]
    }
   ],
   "source": [
    "data = [150, 100, 50]\n",
    "data.sort(reverse=True)\n",
    "print(data)"
   ]
  },
  {
   "cell_type": "code",
   "execution_count": 29,
   "id": "d9fe6f25",
   "metadata": {},
   "outputs": [
    {
     "name": "stdout",
     "output_type": "stream",
     "text": [
      "[50, 100, 150]\n",
      "{50, 100, 150}\n"
     ]
    }
   ],
   "source": [
    "print(data)\n",
    "data=set(data)\n",
    "print(data)\n",
    "data=list(data)"
   ]
  },
  {
   "cell_type": "code",
   "execution_count": 42,
   "id": "731bec39",
   "metadata": {},
   "outputs": [
    {
     "name": "stdout",
     "output_type": "stream",
     "text": [
      "false\n"
     ]
    }
   ],
   "source": [
    "a = -1\n",
    "print('true') if a == 1 else print('false')"
   ]
  },
  {
   "cell_type": "code",
   "execution_count": 43,
   "id": "60a23932",
   "metadata": {},
   "outputs": [
    {
     "name": "stdout",
     "output_type": "stream",
     "text": [
      "good\n"
     ]
    }
   ],
   "source": [
    "if a:\n",
    "    print('good')\n",
    "else:\n",
    "    print('bad')"
   ]
  }
 ],
 "metadata": {
  "kernelspec": {
   "display_name": "Python 3",
   "language": "python",
   "name": "python3"
  },
  "language_info": {
   "codemirror_mode": {
    "name": "ipython",
    "version": 3
   },
   "file_extension": ".py",
   "mimetype": "text/x-python",
   "name": "python",
   "nbconvert_exporter": "python",
   "pygments_lexer": "ipython3",
   "version": "3.8.8"
  }
 },
 "nbformat": 4,
 "nbformat_minor": 5
}

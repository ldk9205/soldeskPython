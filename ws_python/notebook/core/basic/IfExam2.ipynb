{
 "cells": [
  {
   "cell_type": "code",
   "execution_count": null,
   "id": "177f3dc4",
   "metadata": {},
   "outputs": [],
   "source": [
    "import sys\n",
    "\n",
    "fname = sys.argv[0]   # Python 파일명\n",
    "su = int(sys.argv[1]) # 전달되는 데이터, 인수, 정수형으로 변환\n",
    "\n",
    "if su % 60:\n",
    "    print(su,'은(는) 2, 3, 4, 5의 배수가 아님')\n",
    "else:\n",
    "    print(su,'은(는) 2, 3, 4, 5의 배수가 맞음')\n",
    "    \n",
    "print()\n",
    "\n",
    "for x in range(2,6):\n",
    "    if su % x:\n",
    "        print(x, '의 배수가 아님')\n",
    "    else:\n",
    "        print(x, '의 배수가 맞음')"
   ]
  }
 ],
 "metadata": {
  "kernelspec": {
   "display_name": "Python 3",
   "language": "python",
   "name": "python3"
  },
  "language_info": {
   "codemirror_mode": {
    "name": "ipython",
    "version": 3
   },
   "file_extension": ".py",
   "mimetype": "text/x-python",
   "name": "python",
   "nbconvert_exporter": "python",
   "pygments_lexer": "ipython3",
   "version": "3.8.8"
  }
 },
 "nbformat": 4,
 "nbformat_minor": 5
}
